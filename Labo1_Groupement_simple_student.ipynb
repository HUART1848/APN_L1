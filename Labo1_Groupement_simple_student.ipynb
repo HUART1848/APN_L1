{
 "cells": [
  {
   "cell_type": "markdown",
   "id": "46c25f64",
   "metadata": {},
   "source": [
    "<img src=\"https://heig-vd.ch/docs/default-source/doc-global-newsletter/2020-slim.svg\" alt=\"Logo HEIG-VD\" style=\"width: 80px;\" align=\"right\"/>\n",
    "\n",
    "# Cours APN - Labo 1 : Groupement de clients avec _k_-moyennes"
   ]
  },
  {
   "cell_type": "markdown",
   "id": "ac5975ff",
   "metadata": {},
   "source": [
    "Le but de ce laboratoire est de diviser en groupes cohérents les clients d'un centre commercial, en utilisant la méthode des [_k_-moyennes implémentée dans Scikit-learn](https://scikit-learn.org/stable/modules/generated/sklearn.cluster.KMeans.html).\n",
    "\n",
    "Les données viennent de Kaggle: [Mall Customer Segmentation](https://www.kaggle.com/datasets/vjchoudhary7/customer-segmentation-tutorial-in-python) (fournies avec le notebook).  Il n'y a pas d'annotation de référence des groupes, donc ce sera à vous de juger leur qualité grâce à la visualisation.  \n",
    "\n",
    "Le travail comporte les étapes suivantes :\n",
    "1. Analyse exploratoire des données.\n",
    "2. Application simple des _k_-moyennes en 2D.\n",
    "3. Améliorations: optimisation du nombre de groupes, 3D.\n",
    "\n",
    "Veuillez répondre aux questions de chaque étape en écrivant d'abord les commandes nécessaires, puis en commentant le résultat si nécessaire.\n",
    "\n",
    "Il est conseillé de créer un nouvel environnement Conda pour le cours d'APN, par exemple en utilisant la commande `conda create -n cours_apn --file requirements.txt`.  Le fichier _requirements.txt_ fourni avec le notebook liste les packages à installer. "
   ]
  },
  {
   "cell_type": "markdown",
   "id": "80855b6a",
   "metadata": {},
   "source": [
    "***\n",
    "**NOM et prénom :** \n",
    "***"
   ]
  },
  {
   "cell_type": "code",
   "execution_count": null,
   "id": "f2c8d8df",
   "metadata": {},
   "outputs": [],
   "source": [
    "import os\n",
    "os.environ[\"OMP_NUM_THREADS\"] = \"1\"\n",
    "import numpy as np\n",
    "import pandas as pd\n",
    "import matplotlib.pyplot as plt\n",
    "%matplotlib notebook\n",
    "from sklearn.cluster import KMeans"
   ]
  },
  {
   "cell_type": "markdown",
   "id": "b142169f",
   "metadata": {},
   "source": [
    "## 1. Analyse exploratoire des données\n",
    "\n",
    "Veuillez lire les données du fichier `Mail_Customers.csv` dans une *data frame* Pandas nommée `clients_df` et examinez-la.  Veuillez répondre aux questions suivantes en utilisant les commandes appropriées.\n",
    "\n",
    "a. Combien de clients figurent dans les données ?<br>\n",
    "b. Combien d'attributs y a-t-il pour chaque client ?  Quels sont leurs noms ?<br>\n",
    "c. Y a-t-il des données manquantes ?<br>\n",
    "d. Quel est le *5 number summary* pour chaque attribut?"
   ]
  },
  {
   "cell_type": "code",
   "execution_count": null,
   "id": "90f237f2",
   "metadata": {},
   "outputs": [],
   "source": [
    "# Votre code ici:\n"
   ]
  },
  {
   "cell_type": "code",
   "execution_count": null,
   "id": "e47b6efd",
   "metadata": {},
   "outputs": [],
   "source": [
    "# Vos commentaires ici, si nécessaire:\n"
   ]
  },
  {
   "cell_type": "markdown",
   "id": "273d6389",
   "metadata": {},
   "source": [
    "e. Combien de personnes sont des femmes, et combien des hommes ?<br>\n",
    "f. Quel est le revenu annuel moyen par sexe ? Quel est le *spending score* moyen par sexe ?<br>\n",
    "g. Quelles sont les valeurs extrêmes de l'âge pour les femmes ? Et pour les hommes ?<br>\n",
    "h. Même question pour le revenu annuel, puis pour le *spending score*.<br>"
   ]
  },
  {
   "cell_type": "code",
   "execution_count": null,
   "id": "63c9db04",
   "metadata": {},
   "outputs": [],
   "source": [
    "# Votre code ici:\n"
   ]
  },
  {
   "cell_type": "markdown",
   "id": "713a38b5",
   "metadata": {},
   "source": [
    "## 2. Groupement simple avec la méthode des k-moyennes"
   ]
  },
  {
   "cell_type": "markdown",
   "id": "0e2241ab",
   "metadata": {},
   "source": [
    "### 2a. Groupement avec deux attributs, en trois groupes\n",
    "\n",
    "Pour commencer, veuillez utiliser la méthode [sklearn.cluster.KMeans](https://scikit-learn.org/stable/modules/generated/sklearn.cluster.KMeans.html) avec initialisation aléatoire, un seul essai, et en fixant le nombre de groupes à trois (3).  De plus, veuillez utiliser seulement les colonnes 'Annual Income (k$)' et 'Spending Score (1-100)' des données."
   ]
  },
  {
   "cell_type": "code",
   "execution_count": null,
   "id": "312dcbbf",
   "metadata": {},
   "outputs": [],
   "source": [
    "# Votre code ici:\n"
   ]
  },
  {
   "cell_type": "markdown",
   "id": "3bd35c3b",
   "metadata": {},
   "source": [
    "Veuillez afficher les données en 2D (_annual income_ et _spending score_) en indiquant l'appartenance aux clusters par des couleurs différentes.  Veuillez utiliser des marqueurs différents pour les hommes et pour les femmes."
   ]
  },
  {
   "cell_type": "code",
   "execution_count": null,
   "id": "0b9d1f76",
   "metadata": {},
   "outputs": [],
   "source": []
  },
  {
   "cell_type": "markdown",
   "id": "b550a707",
   "metadata": {},
   "source": [
    "**Question :** comment appréciez-vous la qualité du groupement obtenu ?  Veuillez la discuter. "
   ]
  },
  {
   "cell_type": "code",
   "execution_count": null,
   "id": "65b06d99",
   "metadata": {},
   "outputs": [],
   "source": [
    "# Vos commentaires ici:\n"
   ]
  },
  {
   "cell_type": "markdown",
   "id": "34fccd9a",
   "metadata": {},
   "source": [
    "### 2b. Choix individuel d'un nombre de groupes plus adapté\n",
    "\n",
    "Sur la base de la question précédente, veuillez effectuer le groupement avec le nombre de groupes qui vous semble le plus adapté, autre que 3.  Veuillez effectuer 10 initialisations aléatoires.\n",
    "\n",
    "Pour l'affichage, veuillez afficher également les centroïdes des groupes (obtenus de `KMeans`), en utilisant une étoile noire. "
   ]
  },
  {
   "cell_type": "code",
   "execution_count": null,
   "id": "5845e8ee",
   "metadata": {},
   "outputs": [],
   "source": [
    "# Votre code ici:\n"
   ]
  },
  {
   "cell_type": "code",
   "execution_count": null,
   "id": "407f5518",
   "metadata": {},
   "outputs": [],
   "source": []
  },
  {
   "cell_type": "markdown",
   "id": "bb1702bc",
   "metadata": {},
   "source": [
    "**Question :** comment appréciez-vous la qualité du nouveau groupement ?  Veuillez la discuter. \n",
    "    \n",
    "Pouvez-vous décrire chaque groupe en fonction des valeurs des deux axes ?"
   ]
  },
  {
   "cell_type": "code",
   "execution_count": null,
   "id": "c655ef05",
   "metadata": {},
   "outputs": [],
   "source": [
    "# Vos commentaires ici, si nécessaire:\n"
   ]
  },
  {
   "cell_type": "markdown",
   "id": "2245bdd3",
   "metadata": {},
   "source": [
    "## 3. Groupements optimisés en 3D\n",
    "\n",
    "Dans cette section, vous allez utiliser l'initialisation k-means++ (un seul tirage), et optimiser le nombre de groupes par la méthode du coude (_elbow_).  Puis, vous allez ajouter la dimension de l'âge et afficher les groupes en 3D."
   ]
  },
  {
   "cell_type": "markdown",
   "id": "b8985d12",
   "metadata": {},
   "source": [
    "### 3a. Méthode du coude et initialisation k-means++\n",
    "\n",
    "Dans tout ce qui suit, vous allez initialiser les centroïdes avec k-means++ (paramètre `init`) et exécuter 5 fois l'algorithme des k-moyennes (paramètre `n_init`).\n",
    "\n",
    "Veuillez afficher les valeurs du coefficient WSS (Within-cluster Sum of Squares) ou **inertie** pour un nombre de groupes variant de 1 à 9.  Travaillez pour l'instant en deux dimensions, comme avant."
   ]
  },
  {
   "cell_type": "code",
   "execution_count": null,
   "id": "99d69168",
   "metadata": {},
   "outputs": [],
   "source": [
    "# Votre code ici:\n"
   ]
  },
  {
   "cell_type": "markdown",
   "id": "1c54a1e0",
   "metadata": {},
   "source": [
    "**Question :** quel est le nombre de groupes qui est optimal d'après cette méthode ?"
   ]
  },
  {
   "cell_type": "code",
   "execution_count": null,
   "id": "a0236405",
   "metadata": {},
   "outputs": [],
   "source": [
    "# Votre réponse ici:\n"
   ]
  },
  {
   "cell_type": "markdown",
   "id": "33e66883",
   "metadata": {},
   "source": [
    "Veuillez effectuer le groupement avec le nombre de groupes optimal et les paramètres indiqués pour cette section.  \n",
    "\n",
    "Veuillez **afficher le résultat** avec le même format que dans la figure précédente."
   ]
  },
  {
   "cell_type": "code",
   "execution_count": null,
   "id": "e795366b",
   "metadata": {},
   "outputs": [],
   "source": [
    "# Votre code ici:\n"
   ]
  },
  {
   "cell_type": "code",
   "execution_count": null,
   "id": "ddd95090",
   "metadata": {},
   "outputs": [],
   "source": []
  },
  {
   "cell_type": "markdown",
   "id": "ccd114b8",
   "metadata": {},
   "source": [
    "**Question :** comment se compare ce groupement à celui obtenu au 2b ?"
   ]
  },
  {
   "cell_type": "code",
   "execution_count": null,
   "id": "178a039e",
   "metadata": {},
   "outputs": [],
   "source": [
    "# Votre réponse ici:\n"
   ]
  },
  {
   "cell_type": "markdown",
   "id": "64431486",
   "metadata": {},
   "source": [
    "Veuillez calculer le nombre de femmes et d'hommes, respectivement, dans chaque groupe.  Dans quels groupes y a-t-il plus d'hommes que de femmes, et quelles sont les propriétés de ces groupes (revenu, score) ?"
   ]
  },
  {
   "cell_type": "code",
   "execution_count": null,
   "id": "893d1b53",
   "metadata": {},
   "outputs": [],
   "source": [
    "# Votre code ici:\n"
   ]
  },
  {
   "cell_type": "code",
   "execution_count": null,
   "id": "58689213",
   "metadata": {},
   "outputs": [],
   "source": [
    "# Votre réponse ici:\n"
   ]
  },
  {
   "cell_type": "markdown",
   "id": "c6853817",
   "metadata": {},
   "source": [
    "### 3b. Groupement utilisant 3 attributs\n",
    "\n",
    "Veuillez utiliser à partir de maintenant aussi l'attribut de l'âge.  Veuillez déterminer le nombre optimal de groupes par la méthode du coude, et garder l'initialisation k-means++ avec 5 exécutions.  Dans cette section, on vous demande aussi d'afficher les groupes en 3D."
   ]
  },
  {
   "cell_type": "code",
   "execution_count": null,
   "id": "6736418c",
   "metadata": {},
   "outputs": [],
   "source": [
    "# Votre code ici:\n"
   ]
  },
  {
   "cell_type": "code",
   "execution_count": null,
   "id": "bcfd9d60",
   "metadata": {},
   "outputs": [],
   "source": []
  },
  {
   "cell_type": "code",
   "execution_count": null,
   "id": "2231e8d5",
   "metadata": {},
   "outputs": [],
   "source": [
    "# Votre code ici:\n"
   ]
  },
  {
   "cell_type": "code",
   "execution_count": null,
   "id": "c26614e7",
   "metadata": {},
   "outputs": [],
   "source": []
  },
  {
   "cell_type": "markdown",
   "id": "821da578",
   "metadata": {},
   "source": [
    "**Question :** comment se compare ce groupement à celui obtenu au 2b ?"
   ]
  },
  {
   "cell_type": "code",
   "execution_count": null,
   "id": "9a5709fe",
   "metadata": {},
   "outputs": [],
   "source": [
    "# Votre réponse ici:\n"
   ]
  },
  {
   "cell_type": "markdown",
   "id": "a667a9a6",
   "metadata": {},
   "source": [
    "**Question :** serait-il difficile d'ajouter le paramètre 'Gender' (avec les valeurs 'Male' et 'Female') comme 4e attribut pour effectuer le groupement ?  Veuillez discuter la pertinence de cette idée."
   ]
  },
  {
   "cell_type": "code",
   "execution_count": null,
   "id": "f54adb38",
   "metadata": {},
   "outputs": [],
   "source": [
    "# Votre réponse ici:\n"
   ]
  },
  {
   "cell_type": "markdown",
   "id": "1539000b",
   "metadata": {},
   "source": [
    "***\n",
    "**Fin du Labo 1.**  Veuillez nettoyer ce notebook en gardant seulement les réponses et résultats désirés, l'enregistrer en remplaçant 'student' par votre nom, et le soumettre sur Cyberlearn."
   ]
  },
  {
   "cell_type": "code",
   "execution_count": null,
   "id": "87bc2163",
   "metadata": {},
   "outputs": [],
   "source": []
  }
 ],
 "metadata": {
  "kernelspec": {
   "display_name": "conda_apn",
   "language": "python",
   "name": "conda_apn"
  },
  "language_info": {
   "codemirror_mode": {
    "name": "ipython",
    "version": 3
   },
   "file_extension": ".py",
   "mimetype": "text/x-python",
   "name": "python",
   "nbconvert_exporter": "python",
   "pygments_lexer": "ipython3",
   "version": "3.11.5"
  }
 },
 "nbformat": 4,
 "nbformat_minor": 5
}
