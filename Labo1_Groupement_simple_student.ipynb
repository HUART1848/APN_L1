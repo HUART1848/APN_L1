{
 "cells": [
  {
   "cell_type": "markdown",
   "id": "46c25f64",
   "metadata": {},
   "source": [
    "<img src=\"https://heig-vd.ch/docs/default-source/doc-global-newsletter/2020-slim.svg\" alt=\"Logo HEIG-VD\" style=\"width: 80px;\" align=\"right\"/>\n",
    "\n",
    "# Cours APN - Labo 1 : Groupement de clients avec _k_-moyennes"
   ]
  },
  {
   "cell_type": "markdown",
   "id": "ac5975ff",
   "metadata": {},
   "source": [
    "Le but de ce laboratoire est de diviser en groupes cohérents les clients d'un centre commercial, en utilisant la méthode des [_k_-moyennes implémentée dans Scikit-learn](https://scikit-learn.org/stable/modules/generated/sklearn.cluster.KMeans.html).\n",
    "\n",
    "Les données viennent de Kaggle: [Mall Customer Segmentation](https://www.kaggle.com/datasets/vjchoudhary7/customer-segmentation-tutorial-in-python) (fournies avec le notebook).  Il n'y a pas d'annotation de référence des groupes, donc ce sera à vous de juger leur qualité grâce à la visualisation.  \n",
    "\n",
    "Le travail comporte les étapes suivantes :\n",
    "1. Analyse exploratoire des données.\n",
    "2. Application simple des _k_-moyennes en 2D.\n",
    "3. Améliorations: optimisation du nombre de groupes, 3D.\n",
    "\n",
    "Veuillez répondre aux questions de chaque étape en écrivant d'abord les commandes nécessaires, puis en commentant le résultat si nécessaire.\n",
    "\n",
    "Il est conseillé de créer un nouvel environnement Conda pour le cours d'APN, par exemple en utilisant la commande `conda create -n cours_apn --file requirements.txt`.  Le fichier _requirements.txt_ fourni avec le notebook liste les packages à installer. "
   ]
  },
  {
   "cell_type": "markdown",
   "id": "80855b6a",
   "metadata": {},
   "source": [
    "***\n",
    "**NOM et prénom :** \n",
    "***"
   ]
  },
  {
   "cell_type": "code",
   "execution_count": 1,
   "id": "f2c8d8df",
   "metadata": {},
   "outputs": [],
   "source": [
    "import os\n",
    "os.environ[\"OMP_NUM_THREADS\"] = \"1\"\n",
    "import numpy as np\n",
    "import pandas as pd\n",
    "import matplotlib.pyplot as plt\n",
    "%matplotlib inline\n",
    "\n",
    "from sklearn.cluster import KMeans\n",
    "from matplotlib.colors import ListedColormap"
   ]
  },
  {
   "cell_type": "markdown",
   "id": "b142169f",
   "metadata": {},
   "source": [
    "## 1. Analyse exploratoire des données\n",
    "\n",
    "Veuillez lire les données du fichier `Mail_Customers.csv` dans une *data frame* Pandas nommée `clients_df` et examinez-la.  Veuillez répondre aux questions suivantes en utilisant les commandes appropriées.\n",
    "\n",
    "a. Combien de clients figurent dans les données ?<br>\n",
    "b. Combien d'attributs y a-t-il pour chaque client ?  Quels sont leurs noms ?<br>\n",
    "c. Y a-t-il des données manquantes ?<br>\n",
    "d. Quel est le *5 number summary* pour chaque attribut?"
   ]
  },
  {
   "cell_type": "code",
   "execution_count": 2,
   "id": "90f237f2",
   "metadata": {},
   "outputs": [
    {
     "name": "stdout",
     "output_type": "stream",
     "text": [
      "Nombre de clients: 200\n",
      "Attributs : 4 (Gender, Age, Annual Income (k$), Spending Score (1-100))\n",
      "Nombre de valeurs manquantes: 0\n",
      "Résumé des attributs:\n"
     ]
    },
    {
     "data": {
      "text/html": [
       "<div>\n",
       "<style scoped>\n",
       "    .dataframe tbody tr th:only-of-type {\n",
       "        vertical-align: middle;\n",
       "    }\n",
       "\n",
       "    .dataframe tbody tr th {\n",
       "        vertical-align: top;\n",
       "    }\n",
       "\n",
       "    .dataframe thead th {\n",
       "        text-align: right;\n",
       "    }\n",
       "</style>\n",
       "<table border=\"1\" class=\"dataframe\">\n",
       "  <thead>\n",
       "    <tr style=\"text-align: right;\">\n",
       "      <th></th>\n",
       "      <th>Age</th>\n",
       "      <th>Annual Income (k$)</th>\n",
       "      <th>Spending Score (1-100)</th>\n",
       "    </tr>\n",
       "  </thead>\n",
       "  <tbody>\n",
       "    <tr>\n",
       "      <th>min</th>\n",
       "      <td>18.00</td>\n",
       "      <td>15.0</td>\n",
       "      <td>1.00</td>\n",
       "    </tr>\n",
       "    <tr>\n",
       "      <th>25%</th>\n",
       "      <td>28.75</td>\n",
       "      <td>41.5</td>\n",
       "      <td>34.75</td>\n",
       "    </tr>\n",
       "    <tr>\n",
       "      <th>50%</th>\n",
       "      <td>36.00</td>\n",
       "      <td>61.5</td>\n",
       "      <td>50.00</td>\n",
       "    </tr>\n",
       "    <tr>\n",
       "      <th>75%</th>\n",
       "      <td>49.00</td>\n",
       "      <td>78.0</td>\n",
       "      <td>73.00</td>\n",
       "    </tr>\n",
       "    <tr>\n",
       "      <th>max</th>\n",
       "      <td>70.00</td>\n",
       "      <td>137.0</td>\n",
       "      <td>99.00</td>\n",
       "    </tr>\n",
       "  </tbody>\n",
       "</table>\n",
       "</div>"
      ],
      "text/plain": [
       "       Age  Annual Income (k$)  Spending Score (1-100)\n",
       "min  18.00                15.0                    1.00\n",
       "25%  28.75                41.5                   34.75\n",
       "50%  36.00                61.5                   50.00\n",
       "75%  49.00                78.0                   73.00\n",
       "max  70.00               137.0                   99.00"
      ]
     },
     "execution_count": 2,
     "metadata": {},
     "output_type": "execute_result"
    }
   ],
   "source": [
    "clients_df = pd.read_csv(\"Mall_Customers.csv\", index_col=\"CustomerID\")\n",
    "print(f\"Nombre de clients: {len(clients_df)}\")\n",
    "print(f\"\"\"Attributs : {len(clients_df.columns)} ({\", \".join(clients_df.columns)})\"\"\")\n",
    "print(f\"Nombre de valeurs manquantes: {clients_df.isna().sum().sum()}\")\n",
    "print(\"Résumé des attributs:\")\n",
    "clients_df.describe().loc[[\"min\", \"25%\", \"50%\", \"75%\", \"max\"]]"
   ]
  },
  {
   "cell_type": "code",
   "execution_count": 3,
   "id": "209cf46c-0b4b-4a31-a860-4df8a4964647",
   "metadata": {},
   "outputs": [],
   "source": [
    "INCOME = \"Annual Income (k$)\"\n",
    "SPENDING = \"Spending Score (1-100)\""
   ]
  },
  {
   "cell_type": "markdown",
   "id": "5db7d69c-3873-4ab0-90ef-11df440773f8",
   "metadata": {},
   "source": [
    "**a)** Il y a 200 clients\n",
    "\n",
    "**b)** Il y a 4 attributs, dont 3 numériques (voir ci-dessus) et un discret (le genre)\n",
    "\n",
    "**c)** Il n'y a pas de données manquantes\n",
    "\n",
    "**d)** Voir ci-dessus"
   ]
  },
  {
   "cell_type": "markdown",
   "id": "273d6389",
   "metadata": {},
   "source": [
    "e. Combien de personnes sont des femmes, et combien des hommes ?<br>\n",
    "f. Quel est le revenu annuel moyen par sexe ? Quel est le *spending score* moyen par sexe ?<br>\n",
    "g. Quelles sont les valeurs extrêmes de l'âge pour les femmes ? Et pour les hommes ?<br>\n",
    "h. Même question pour le revenu annuel, puis pour le *spending score*.<br>"
   ]
  },
  {
   "cell_type": "code",
   "execution_count": 4,
   "id": "63c9db04",
   "metadata": {},
   "outputs": [
    {
     "name": "stdout",
     "output_type": "stream",
     "text": [
      "Répartition homme/femme:\n",
      "Female    112\n",
      "Male       88\n",
      "Name: Gender, dtype: int64\n",
      "Revenu et 'spending score' moyen par genre:\n",
      "        Annual Income (k$)  Spending Score (1-100)\n",
      "Gender                                            \n",
      "Female           59.250000               51.526786\n",
      "Male             62.227273               48.511364\n",
      "Valeurs minimales par genre:\n",
      "        Age  Annual Income (k$)  Spending Score (1-100)\n",
      "Gender                                                 \n",
      "Female   18                  16                       5\n",
      "Male     18                  15                       1\n",
      "Valeurs maximales par genre:\n",
      "        Age  Annual Income (k$)  Spending Score (1-100)\n",
      "Gender                                                 \n",
      "Female   68                 126                      99\n",
      "Male     70                 137                      97\n"
     ]
    }
   ],
   "source": [
    "print(\"Répartition homme/femme:\")\n",
    "print(clients_df[\"Gender\"].value_counts())\n",
    "\n",
    "print(\"Revenu et 'spending score' moyen par genre:\")\n",
    "print(clients_df.groupby(\"Gender\").mean()[[\"Annual Income (k$)\", \"Spending Score (1-100)\"]])\n",
    "\n",
    "print(\"Valeurs minimales par genre:\")\n",
    "print(clients_df.groupby(\"Gender\").min())\n",
    "\n",
    "print(\"Valeurs maximales par genre:\")\n",
    "print(clients_df.groupby(\"Gender\").max())"
   ]
  },
  {
   "cell_type": "markdown",
   "id": "3be3eb16-274d-4831-99a8-c3f2de0d874f",
   "metadata": {},
   "source": [
    "**e)** Il y a 112 femmes et 88 hommes\n",
    "\n",
    "**f)** Les revenus et 'spending score' moyens pour les hommes et les femmes sont respectivement \\\\$62'000 et 48 ainsi que \\\\$59'000 et 51\n",
    "\n",
    "**g)** Pour les hommes et les femmes l'âge minimum est 18 ans. Les ages maximums sont respectivement 70 et 68 ans.\n",
    "\n",
    "**h)**\n",
    "Les revenus minimums sont respectivement \\\\$15'0000 et \\\\$16'000, les revenus maximums \\\\$137'000 et \\\\$126'000. Pour les 'spending score' les miminums sont 1 et 5, les maximums 97 et 99."
   ]
  },
  {
   "cell_type": "markdown",
   "id": "713a38b5",
   "metadata": {},
   "source": [
    "## 2. Groupement simple avec la méthode des k-moyennes"
   ]
  },
  {
   "cell_type": "markdown",
   "id": "0e2241ab",
   "metadata": {},
   "source": [
    "### 2a. Groupement avec deux attributs, en trois groupes\n",
    "\n",
    "Pour commencer, veuillez utiliser la méthode [sklearn.cluster.KMeans](https://scikit-learn.org/stable/modules/generated/sklearn.cluster.KMeans.html) avec initialisation aléatoire, un seul essai, et en fixant le nombre de groupes à trois (3).  De plus, veuillez utiliser seulement les colonnes 'Annual Income (k$)' et 'Spending Score (1-100)' des données."
   ]
  },
  {
   "cell_type": "code",
   "execution_count": 5,
   "id": "312dcbbf",
   "metadata": {},
   "outputs": [],
   "source": [
    "kmeans = KMeans(n_clusters=3, init=\"random\", n_init=1).fit(clients_df[[\"Annual Income (k$)\", \"Spending Score (1-100)\"]])\n",
    "groups = kmeans.predict(clients_df[[\"Annual Income (k$)\", \"Spending Score (1-100)\"]])\n",
    "\n",
    "clients_df[\"Group\"] = groups"
   ]
  },
  {
   "cell_type": "markdown",
   "id": "3bd35c3b",
   "metadata": {},
   "source": [
    "Veuillez afficher les données en 2D (_annual income_ et _spending score_) en indiquant l'appartenance aux clusters par des couleurs différentes.  Veuillez utiliser des marqueurs différents pour les hommes et pour les femmes."
   ]
  },
  {
   "cell_type": "code",
   "execution_count": 6,
   "id": "0b9d1f76",
   "metadata": {},
   "outputs": [
    {
     "data": {
      "text/plain": [
       "<matplotlib.legend.Legend at 0x7efdc1da3cd0>"
      ]
     },
     "execution_count": 6,
     "metadata": {},
     "output_type": "execute_result"
    },
    {
     "data": {
      "image/png": "[encoded data removed]",
      "text/plain": [
       "<Figure size 640x480 with 1 Axes>"
      ]
     },
     "metadata": {},
     "output_type": "display_data"
    }
   ],
   "source": [
    "men = clients_df[clients_df[\"Gender\"] == \"Male\"]\n",
    "women = clients_df[clients_df[\"Gender\"] == \"Female\"]\n",
    "\n",
    "plt.scatter(men[INCOME], men[SPENDING], c=men[\"Group\"], marker=\".\", label=\"Hommes\")\n",
    "plt.scatter(women[INCOME], women[SPENDING], c=women[\"Group\"], marker=\"x\", label=\"Femmes\")\n",
    "\n",
    "plt.legend(['a', 'b', 'c'])"
   ]
  },
  {
   "cell_type": "markdown",
   "id": "b550a707",
   "metadata": {},
   "source": [
    "**Question :** comment appréciez-vous la qualité du groupement obtenu ?  Veuillez la discuter. "
   ]
  },
  {
   "cell_type": "code",
   "execution_count": 7,
   "id": "65b06d99",
   "metadata": {},
   "outputs": [],
   "source": [
    "# Vos commentaires ici:\n"
   ]
  },
  {
   "cell_type": "markdown",
   "id": "34fccd9a",
   "metadata": {},
   "source": [
    "### 2b. Choix individuel d'un nombre de groupes plus adapté\n",
    "\n",
    "Sur la base de la question précédente, veuillez effectuer le groupement avec le nombre de groupes qui vous semble le plus adapté, autre que 3.  Veuillez effectuer 10 initialisations aléatoires.\n",
    "\n",
    "Pour l'affichage, veuillez afficher également les centroïdes des groupes (obtenus de `KMeans`), en utilisant une étoile noire. "
   ]
  },
  {
   "cell_type": "code",
   "execution_count": 23,
   "id": "5845e8ee",
   "metadata": {},
   "outputs": [],
   "source": [
    "kmeans = KMeans(n_clusters=5, init=\"random\", n_init=10).fit(clients_df[[INCOME, SPENDING]])\n",
    "groups = kmeans.predict(clients_df[[INCOME, SPENDING]])\n",
    "\n",
    "clients_df[\"Group\"] = groups\n",
    "centroids = kmeans.cluster_centers_"
   ]
  },
  {
   "cell_type": "code",
   "execution_count": 24,
   "id": "407f5518",
   "metadata": {},
   "outputs": [
    {
     "data": {
      "text/plain": [
       "<matplotlib.legend.Legend at 0x7efdc17a9310>"
      ]
     },
     "execution_count": 24,
     "metadata": {},
     "output_type": "execute_result"
    },
    {
     "data": {
      "image/png": "[encoded data removed]",
      "text/plain": [
       "<Figure size 640x480 with 1 Axes>"
      ]
     },
     "metadata": {},
     "output_type": "display_data"
    }
   ],
   "source": [
    "men = clients_df[clients_df[\"Gender\"] == \"Male\"]\n",
    "women = clients_df[clients_df[\"Gender\"] == \"Female\"]\n",
    "\n",
    "plt.scatter(men[INCOME], men[SPENDING], c=men[\"Group\"], marker=\".\", label=\"Hommes\")\n",
    "plt.scatter(women[INCOME], women[SPENDING], c=women[\"Group\"], marker=\"x\", label=\"Femmes\")\n",
    "plt.scatter(x=centroids[:, 0], y=centroids[:, 1], c=\"black\", marker=\"*\")\n",
    "\n",
    "plt.legend([\"Hommes\", \"Femmes\", \"Centroïdes\"])"
   ]
  },
  {
   "cell_type": "markdown",
   "id": "bb1702bc",
   "metadata": {},
   "source": [
    "**Question :** comment appréciez-vous la qualité du nouveau groupement ?  Veuillez la discuter. \n",
    "    \n",
    "Pouvez-vous décrire chaque groupe en fonction des valeurs des deux axes ?"
   ]
  },
  {
   "cell_type": "code",
   "execution_count": 10,
   "id": "c655ef05",
   "metadata": {},
   "outputs": [],
   "source": [
    "# Vos commentaires ici, si nécessaire:\n"
   ]
  },
  {
   "cell_type": "markdown",
   "id": "2245bdd3",
   "metadata": {},
   "source": [
    "## 3. Groupements optimisés en 3D\n",
    "\n",
    "Dans cette section, vous allez utiliser l'initialisation k-means++ (un seul tirage), et optimiser le nombre de groupes par la méthode du coude (_elbow_).  Puis, vous allez ajouter la dimension de l'âge et afficher les groupes en 3D."
   ]
  },
  {
   "cell_type": "markdown",
   "id": "b8985d12",
   "metadata": {},
   "source": [
    "### 3a. Méthode du coude et initialisation k-means++\n",
    "\n",
    "Dans tout ce qui suit, vous allez initialiser les centroïdes avec k-means++ (paramètre `init`) et exécuter 5 fois l'algorithme des k-moyennes (paramètre `n_init`).\n",
    "\n",
    "Veuillez afficher les valeurs du coefficient WSS (Within-cluster Sum of Squares) ou **inertie** pour un nombre de groupes variant de 1 à 9.  Travaillez pour l'instant en deux dimensions, comme avant."
   ]
  },
  {
   "cell_type": "code",
   "execution_count": 11,
   "id": "99d69168",
   "metadata": {},
   "outputs": [],
   "source": [
    "# Votre code ici:\n"
   ]
  },
  {
   "cell_type": "markdown",
   "id": "1c54a1e0",
   "metadata": {},
   "source": [
    "**Question :** quel est le nombre de groupes qui est optimal d'après cette méthode ?"
   ]
  },
  {
   "cell_type": "code",
   "execution_count": 12,
   "id": "a0236405",
   "metadata": {},
   "outputs": [],
   "source": [
    "# Votre réponse ici:\n"
   ]
  },
  {
   "cell_type": "markdown",
   "id": "33e66883",
   "metadata": {},
   "source": [
    "Veuillez effectuer le groupement avec le nombre de groupes optimal et les paramètres indiqués pour cette section.  \n",
    "\n",
    "Veuillez **afficher le résultat** avec le même format que dans la figure précédente."
   ]
  },
  {
   "cell_type": "code",
   "execution_count": 13,
   "id": "e795366b",
   "metadata": {},
   "outputs": [],
   "source": [
    "# Votre code ici:\n"
   ]
  },
  {
   "cell_type": "code",
   "execution_count": null,
   "id": "ddd95090",
   "metadata": {},
   "outputs": [],
   "source": []
  },
  {
   "cell_type": "markdown",
   "id": "ccd114b8",
   "metadata": {},
   "source": [
    "**Question :** comment se compare ce groupement à celui obtenu au 2b ?"
   ]
  },
  {
   "cell_type": "code",
   "execution_count": 14,
   "id": "178a039e",
   "metadata": {},
   "outputs": [],
   "source": [
    "# Votre réponse ici:\n"
   ]
  },
  {
   "cell_type": "markdown",
   "id": "64431486",
   "metadata": {},
   "source": [
    "Veuillez calculer le nombre de femmes et d'hommes, respectivement, dans chaque groupe.  Dans quels groupes y a-t-il plus d'hommes que de femmes, et quelles sont les propriétés de ces groupes (revenu, score) ?"
   ]
  },
  {
   "cell_type": "code",
   "execution_count": 15,
   "id": "893d1b53",
   "metadata": {},
   "outputs": [],
   "source": [
    "# Votre code ici:\n"
   ]
  },
  {
   "cell_type": "code",
   "execution_count": 16,
   "id": "58689213",
   "metadata": {},
   "outputs": [],
   "source": [
    "# Votre réponse ici:\n"
   ]
  },
  {
   "cell_type": "markdown",
   "id": "c6853817",
   "metadata": {},
   "source": [
    "### 3b. Groupement utilisant 3 attributs\n",
    "\n",
    "Veuillez utiliser à partir de maintenant aussi l'attribut de l'âge.  Veuillez déterminer le nombre optimal de groupes par la méthode du coude, et garder l'initialisation k-means++ avec 5 exécutions.  Dans cette section, on vous demande aussi d'afficher les groupes en 3D."
   ]
  },
  {
   "cell_type": "code",
   "execution_count": 17,
   "id": "6736418c",
   "metadata": {},
   "outputs": [],
   "source": [
    "# Votre code ici:\n"
   ]
  },
  {
   "cell_type": "code",
   "execution_count": null,
   "id": "bcfd9d60",
   "metadata": {},
   "outputs": [],
   "source": []
  },
  {
   "cell_type": "code",
   "execution_count": 18,
   "id": "2231e8d5",
   "metadata": {},
   "outputs": [],
   "source": [
    "# Votre code ici:\n"
   ]
  },
  {
   "cell_type": "code",
   "execution_count": null,
   "id": "c26614e7",
   "metadata": {},
   "outputs": [],
   "source": []
  },
  {
   "cell_type": "markdown",
   "id": "821da578",
   "metadata": {},
   "source": [
    "**Question :** comment se compare ce groupement à celui obtenu au 2b ?"
   ]
  },
  {
   "cell_type": "code",
   "execution_count": 19,
   "id": "9a5709fe",
   "metadata": {},
   "outputs": [],
   "source": [
    "# Votre réponse ici:\n"
   ]
  },
  {
   "cell_type": "markdown",
   "id": "a667a9a6",
   "metadata": {},
   "source": [
    "**Question :** serait-il difficile d'ajouter le paramètre 'Gender' (avec les valeurs 'Male' et 'Female') comme 4e attribut pour effectuer le groupement ?  Veuillez discuter la pertinence de cette idée."
   ]
  },
  {
   "cell_type": "code",
   "execution_count": 20,
   "id": "f54adb38",
   "metadata": {},
   "outputs": [],
   "source": [
    "# Votre réponse ici:\n"
   ]
  },
  {
   "cell_type": "markdown",
   "id": "1539000b",
   "metadata": {},
   "source": [
    "***\n",
    "**Fin du Labo 1.**  Veuillez nettoyer ce notebook en gardant seulement les réponses et résultats désirés, l'enregistrer en remplaçant 'student' par votre nom, et le soumettre sur Cyberlearn."
   ]
  },
  {
   "cell_type": "code",
   "execution_count": null,
   "id": "87bc2163",
   "metadata": {},
   "outputs": [],
   "source": []
  }
 ],
 "metadata": {
  "kernelspec": {
   "display_name": "Python 3 (ipykernel)",
   "language": "python",
   "name": "python3"
  },
  "language_info": {
   "codemirror_mode": {
    "name": "ipython",
    "version": 3
   },
   "file_extension": ".py",
   "mimetype": "text/x-python",
   "name": "python",
   "nbconvert_exporter": "python",
   "pygments_lexer": "ipython3",
   "version": "3.11.5"
  }
 },
 "nbformat": 4,
 "nbformat_minor": 5
}
